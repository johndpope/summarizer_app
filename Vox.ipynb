{
 "cells": [
  {
   "cell_type": "code",
   "execution_count": 6,
   "metadata": {
    "collapsed": true
   },
   "outputs": [],
   "source": [
    "from bs4 import BeautifulSoup\n",
    "import requests\n",
    "import re"
   ]
  },
  {
   "cell_type": "code",
   "execution_count": 7,
   "metadata": {
    "collapsed": false
   },
   "outputs": [],
   "source": [
    "response = requests.get('http://voxeu.org/columns/topics')\n",
    "soup = BeautifulSoup(response.text,'lxml')"
   ]
  },
  {
   "cell_type": "code",
   "execution_count": 8,
   "metadata": {
    "collapsed": true
   },
   "outputs": [],
   "source": [
    "## Extract topics and URLs\n",
    "response = requests.get('http://voxeu.org/columns/topics')\n",
    "soup = BeautifulSoup(response.text,'lxml')\n",
    "topic_url = []\n",
    "topic_list = []\n",
    "for topic in soup.findAll('h2'):\n",
    "    try:\n",
    "        topic_url.append('http://voxeu.org'+topic.next['href'])\n",
    "        topic_list.append(topic.next.text)\n",
    "    except:\n",
    "        continue"
   ]
  },
  {
   "cell_type": "code",
   "execution_count": 9,
   "metadata": {
    "collapsed": false
   },
   "outputs": [
    {
     "data": {
      "text/plain": [
       "'4'"
      ]
     },
     "execution_count": 9,
     "metadata": {},
     "output_type": "execute_result"
    }
   ],
   "source": [
    "response = requests.get(topic_url[0])\n",
    "soup = BeautifulSoup(response.text,'lxml')\n",
    "\n",
    "page = soup.findAll(text=re.compile('1 of'))[0]\n",
    "\n",
    "page.split()[2]"
   ]
  },
  {
   "cell_type": "code",
   "execution_count": 10,
   "metadata": {
    "collapsed": true
   },
   "outputs": [],
   "source": [
    "## get the max pages in each topic\n",
    "max_page_list = []\n",
    "for topic in topic_url:\n",
    "    response = requests.get(topic)\n",
    "    soup = BeautifulSoup(response.text,'lxml')\n",
    "    max_page_list.append(soup.findAll(text=re.compile('1 of'))[0].split()[2])"
   ]
  },
  {
   "cell_type": "code",
   "execution_count": 21,
   "metadata": {
    "collapsed": false
   },
   "outputs": [],
   "source": [
    "topic_url_page_list = []\n",
    "for i in range(len(topic_url)):\n",
    "    for n in range(int(max_page_list[i])):\n",
    "        topic_url_page_list.append(topic_url[i]+'?page='+str(n))"
   ]
  },
  {
   "cell_type": "code",
   "execution_count": 23,
   "metadata": {
    "collapsed": true
   },
   "outputs": [],
   "source": [
    "##Page --> post urls"
   ]
  },
  {
   "cell_type": "code",
   "execution_count": 35,
   "metadata": {
    "collapsed": false
   },
   "outputs": [],
   "source": [
    "def get_article_url(link):\n",
    "    response = requests.get(link)\n",
    "    soup = BeautifulSoup(response.text,'lxml')\n",
    "    for a in soup.findAll('a'):\n",
    "        if '/article' in a['href']:\n",
    "            article_list.append(\"http://voxeu.org\"+a['href'])"
   ]
  },
  {
   "cell_type": "code",
   "execution_count": null,
   "metadata": {
    "collapsed": true
   },
   "outputs": [],
   "source": [
    "article_list = []\n",
    "for topic_url in topic_url_page_list:\n",
    "    get_article_url(topic_url)"
   ]
  },
  {
   "cell_type": "code",
   "execution_count": null,
   "metadata": {
    "collapsed": true
   },
   "outputs": [],
   "source": []
  }
 ],
 "metadata": {
  "kernelspec": {
   "display_name": "Python 3",
   "language": "python",
   "name": "python3"
  },
  "language_info": {
   "codemirror_mode": {
    "name": "ipython",
    "version": 3
   },
   "file_extension": ".py",
   "mimetype": "text/x-python",
   "name": "python",
   "nbconvert_exporter": "python",
   "pygments_lexer": "ipython3",
   "version": "3.5.1"
  }
 },
 "nbformat": 4,
 "nbformat_minor": 0
}
